{
 "cells": [
  {
   "cell_type": "code",
   "execution_count": 16,
   "metadata": {},
   "outputs": [
    {
     "data": {
      "application/vnd.plotly.v1+json": {
       "config": {
        "plotlyServerURL": "https://plot.ly"
       },
       "data": [
        {
         "customdata": [
          [
           1,
           "https://ikman.lk/en/ad/honda-civic-sedan-ex-tech-pack-2020-for-sale-colombo-1"
          ],
          [
           2,
           "https://ikman.lk/en/ad/honda-civic-fd4-2007-for-sale-kalutara-1"
          ],
          [
           3,
           "https://ikman.lk/en/ad/honda-civic-ex-package-2018-for-sale-colombo-16"
          ],
          [
           4,
           "https://ikman.lk/en/ad/honda-civic-sr-v-tec-turbo-2017-for-sale-colombo"
          ],
          [
           5,
           "https://ikman.lk/en/ad/honda-civic-ex-tech-pack-2018-for-sale-colombo-106"
          ],
          [
           6,
           "https://ikman.lk/en/ad/honda-civic-ex-tech-2017-for-sale-colombo-10"
          ],
          [
           7,
           "https://ikman.lk/en/ad/honda-civic-2019-for-sale-gampaha"
          ],
          [
           8,
           "https://ikman.lk/en/ad/honda-civic-18l-9th-gen-2012-for-sale-colombo"
          ],
          [
           9,
           "https://ikman.lk/en/ad/honda-civic-ex-package-2017-for-sale-colombo-18"
          ],
          [
           10,
           "https://ikman.lk/en/ad/honda-civic-sr-2018-for-sale-colombo-294"
          ],
          [
           11,
           "https://ikman.lk/en/ad/honda-civic-sr-package-2018-for-sale-colombo"
          ],
          [
           12,
           "https://ikman.lk/en/ad/honda-civic-fd3-2009-for-sale-colombo-3"
          ],
          [
           13,
           "https://ikman.lk/en/ad/honda-civic-fd3-hybrid-ukversion-2009-for-sale-colombo"
          ],
          [
           14,
           "https://ikman.lk/en/ad/honda-civic-ex-technology-pack-2020-for-sale-colombo-8"
          ],
          [
           15,
           "https://ikman.lk/en/ad/honda-civic-ex-orange-pack-2017-for-sale-gampaha-1"
          ],
          [
           16,
           "https://ikman.lk/en/ad/honda-civic-ex-2018-for-sale-colombo-476"
          ],
          [
           17,
           "https://ikman.lk/en/ad/honda-civic-fb1-2012-for-sale-kalutara-2"
          ],
          [
           18,
           "https://ikman.lk/en/ad/honda-civic-ex-2018-for-sale-colombo-475"
          ],
          [
           19,
           "https://ikman.lk/en/ad/honda-civic-ex-tech-pack-2018-for-sale-colombo-104"
          ],
          [
           20,
           "https://ikman.lk/en/ad/honda-civic-ex-2017-for-sale-colombo-166"
          ],
          [
           21,
           "https://ikman.lk/en/ad/honda-civic-fd1-2008-for-sale-gampaha-13"
          ],
          [
           22,
           "https://ikman.lk/en/ad/honda-civic-sr-2018-for-sale-kalutara-2"
          ],
          [
           23,
           "https://ikman.lk/en/ad/honda-civic-fd1-type-s-2007-for-sale-ratnapura"
          ],
          [
           24,
           "https://ikman.lk/en/ad/honda-civic-rs-sedan-15-turbo-2017-for-sale-colombo"
          ],
          [
           25,
           "https://ikman.lk/en/ad/honda-civic-tech-pack-2018-for-sale-hambantota"
          ]
         ],
         "hovertemplate": "Mileage=%{x}<br>Price=%{y}<br>Index=%{customdata[0]}<br>Link=%{customdata[1]}<br>Year=%{marker.color}<extra></extra>",
         "legendgroup": "",
         "marker": {
          "color": [
           2020,
           2007,
           2018,
           2017,
           2018,
           2017,
           2019,
           2012,
           2017,
           2018,
           2018,
           2009,
           2009,
           2020,
           2017,
           2018,
           2012,
           2018,
           2018,
           2017,
           2008,
           2018,
           2007,
           2017,
           2018
          ],
          "coloraxis": "coloraxis",
          "line": {
           "color": "DarkSlateGrey",
           "width": 1
          },
          "size": 6,
          "symbol": "circle"
         },
         "mode": "markers+text",
         "name": "",
         "orientation": "v",
         "showlegend": false,
         "textfont": {
          "size": 1
         },
         "textposition": "middle center",
         "texttemplate": "<a href=\"%{customdata[1]}\">%{customdata[1]}</a>",
         "type": "scatter",
         "x": [
          30000,
          108000,
          38000,
          33407,
          53000,
          54100,
          53000,
          49620,
          49500,
          36000,
          69000,
          111000,
          72000,
          18000,
          52300,
          44500,
          112000,
          53000,
          52000,
          41000,
          129000,
          71000,
          137000,
          77000,
          50000
         ],
         "xaxis": "x",
         "y": [
          13250000,
          5800000,
          9950000,
          9650000,
          10590000,
          11000000,
          12500000,
          6800000,
          9350000,
          8975000,
          8675000,
          4900000,
          6590000,
          13190000,
          10200000,
          9750000,
          6000000,
          9500000,
          10500000,
          10600000,
          5250000,
          9500000,
          5650000,
          12500000,
          11400000
         ],
         "yaxis": "y"
        }
       ],
       "layout": {
        "coloraxis": {
         "colorbar": {
          "title": {
           "text": "Year"
          }
         },
         "colorscale": [
          [
           0,
           "#0d0887"
          ],
          [
           0.1111111111111111,
           "#46039f"
          ],
          [
           0.2222222222222222,
           "#7201a8"
          ],
          [
           0.3333333333333333,
           "#9c179e"
          ],
          [
           0.4444444444444444,
           "#bd3786"
          ],
          [
           0.5555555555555556,
           "#d8576b"
          ],
          [
           0.6666666666666666,
           "#ed7953"
          ],
          [
           0.7777777777777778,
           "#fb9f3a"
          ],
          [
           0.8888888888888888,
           "#fdca26"
          ],
          [
           1,
           "#f0f921"
          ]
         ]
        },
        "legend": {
         "tracegroupgap": 0
        },
        "margin": {
         "t": 60
        },
        "template": {
         "data": {
          "bar": [
           {
            "error_x": {
             "color": "#2a3f5f"
            },
            "error_y": {
             "color": "#2a3f5f"
            },
            "marker": {
             "line": {
              "color": "#E5ECF6",
              "width": 0.5
             },
             "pattern": {
              "fillmode": "overlay",
              "size": 10,
              "solidity": 0.2
             }
            },
            "type": "bar"
           }
          ],
          "barpolar": [
           {
            "marker": {
             "line": {
              "color": "#E5ECF6",
              "width": 0.5
             },
             "pattern": {
              "fillmode": "overlay",
              "size": 10,
              "solidity": 0.2
             }
            },
            "type": "barpolar"
           }
          ],
          "carpet": [
           {
            "aaxis": {
             "endlinecolor": "#2a3f5f",
             "gridcolor": "white",
             "linecolor": "white",
             "minorgridcolor": "white",
             "startlinecolor": "#2a3f5f"
            },
            "baxis": {
             "endlinecolor": "#2a3f5f",
             "gridcolor": "white",
             "linecolor": "white",
             "minorgridcolor": "white",
             "startlinecolor": "#2a3f5f"
            },
            "type": "carpet"
           }
          ],
          "choropleth": [
           {
            "colorbar": {
             "outlinewidth": 0,
             "ticks": ""
            },
            "type": "choropleth"
           }
          ],
          "contour": [
           {
            "colorbar": {
             "outlinewidth": 0,
             "ticks": ""
            },
            "colorscale": [
             [
              0,
              "#0d0887"
             ],
             [
              0.1111111111111111,
              "#46039f"
             ],
             [
              0.2222222222222222,
              "#7201a8"
             ],
             [
              0.3333333333333333,
              "#9c179e"
             ],
             [
              0.4444444444444444,
              "#bd3786"
             ],
             [
              0.5555555555555556,
              "#d8576b"
             ],
             [
              0.6666666666666666,
              "#ed7953"
             ],
             [
              0.7777777777777778,
              "#fb9f3a"
             ],
             [
              0.8888888888888888,
              "#fdca26"
             ],
             [
              1,
              "#f0f921"
             ]
            ],
            "type": "contour"
           }
          ],
          "contourcarpet": [
           {
            "colorbar": {
             "outlinewidth": 0,
             "ticks": ""
            },
            "type": "contourcarpet"
           }
          ],
          "heatmap": [
           {
            "colorbar": {
             "outlinewidth": 0,
             "ticks": ""
            },
            "colorscale": [
             [
              0,
              "#0d0887"
             ],
             [
              0.1111111111111111,
              "#46039f"
             ],
             [
              0.2222222222222222,
              "#7201a8"
             ],
             [
              0.3333333333333333,
              "#9c179e"
             ],
             [
              0.4444444444444444,
              "#bd3786"
             ],
             [
              0.5555555555555556,
              "#d8576b"
             ],
             [
              0.6666666666666666,
              "#ed7953"
             ],
             [
              0.7777777777777778,
              "#fb9f3a"
             ],
             [
              0.8888888888888888,
              "#fdca26"
             ],
             [
              1,
              "#f0f921"
             ]
            ],
            "type": "heatmap"
           }
          ],
          "heatmapgl": [
           {
            "colorbar": {
             "outlinewidth": 0,
             "ticks": ""
            },
            "colorscale": [
             [
              0,
              "#0d0887"
             ],
             [
              0.1111111111111111,
              "#46039f"
             ],
             [
              0.2222222222222222,
              "#7201a8"
             ],
             [
              0.3333333333333333,
              "#9c179e"
             ],
             [
              0.4444444444444444,
              "#bd3786"
             ],
             [
              0.5555555555555556,
              "#d8576b"
             ],
             [
              0.6666666666666666,
              "#ed7953"
             ],
             [
              0.7777777777777778,
              "#fb9f3a"
             ],
             [
              0.8888888888888888,
              "#fdca26"
             ],
             [
              1,
              "#f0f921"
             ]
            ],
            "type": "heatmapgl"
           }
          ],
          "histogram": [
           {
            "marker": {
             "pattern": {
              "fillmode": "overlay",
              "size": 10,
              "solidity": 0.2
             }
            },
            "type": "histogram"
           }
          ],
          "histogram2d": [
           {
            "colorbar": {
             "outlinewidth": 0,
             "ticks": ""
            },
            "colorscale": [
             [
              0,
              "#0d0887"
             ],
             [
              0.1111111111111111,
              "#46039f"
             ],
             [
              0.2222222222222222,
              "#7201a8"
             ],
             [
              0.3333333333333333,
              "#9c179e"
             ],
             [
              0.4444444444444444,
              "#bd3786"
             ],
             [
              0.5555555555555556,
              "#d8576b"
             ],
             [
              0.6666666666666666,
              "#ed7953"
             ],
             [
              0.7777777777777778,
              "#fb9f3a"
             ],
             [
              0.8888888888888888,
              "#fdca26"
             ],
             [
              1,
              "#f0f921"
             ]
            ],
            "type": "histogram2d"
           }
          ],
          "histogram2dcontour": [
           {
            "colorbar": {
             "outlinewidth": 0,
             "ticks": ""
            },
            "colorscale": [
             [
              0,
              "#0d0887"
             ],
             [
              0.1111111111111111,
              "#46039f"
             ],
             [
              0.2222222222222222,
              "#7201a8"
             ],
             [
              0.3333333333333333,
              "#9c179e"
             ],
             [
              0.4444444444444444,
              "#bd3786"
             ],
             [
              0.5555555555555556,
              "#d8576b"
             ],
             [
              0.6666666666666666,
              "#ed7953"
             ],
             [
              0.7777777777777778,
              "#fb9f3a"
             ],
             [
              0.8888888888888888,
              "#fdca26"
             ],
             [
              1,
              "#f0f921"
             ]
            ],
            "type": "histogram2dcontour"
           }
          ],
          "mesh3d": [
           {
            "colorbar": {
             "outlinewidth": 0,
             "ticks": ""
            },
            "type": "mesh3d"
           }
          ],
          "parcoords": [
           {
            "line": {
             "colorbar": {
              "outlinewidth": 0,
              "ticks": ""
             }
            },
            "type": "parcoords"
           }
          ],
          "pie": [
           {
            "automargin": true,
            "type": "pie"
           }
          ],
          "scatter": [
           {
            "fillpattern": {
             "fillmode": "overlay",
             "size": 10,
             "solidity": 0.2
            },
            "type": "scatter"
           }
          ],
          "scatter3d": [
           {
            "line": {
             "colorbar": {
              "outlinewidth": 0,
              "ticks": ""
             }
            },
            "marker": {
             "colorbar": {
              "outlinewidth": 0,
              "ticks": ""
             }
            },
            "type": "scatter3d"
           }
          ],
          "scattercarpet": [
           {
            "marker": {
             "colorbar": {
              "outlinewidth": 0,
              "ticks": ""
             }
            },
            "type": "scattercarpet"
           }
          ],
          "scattergeo": [
           {
            "marker": {
             "colorbar": {
              "outlinewidth": 0,
              "ticks": ""
             }
            },
            "type": "scattergeo"
           }
          ],
          "scattergl": [
           {
            "marker": {
             "colorbar": {
              "outlinewidth": 0,
              "ticks": ""
             }
            },
            "type": "scattergl"
           }
          ],
          "scattermapbox": [
           {
            "marker": {
             "colorbar": {
              "outlinewidth": 0,
              "ticks": ""
             }
            },
            "type": "scattermapbox"
           }
          ],
          "scatterpolar": [
           {
            "marker": {
             "colorbar": {
              "outlinewidth": 0,
              "ticks": ""
             }
            },
            "type": "scatterpolar"
           }
          ],
          "scatterpolargl": [
           {
            "marker": {
             "colorbar": {
              "outlinewidth": 0,
              "ticks": ""
             }
            },
            "type": "scatterpolargl"
           }
          ],
          "scatterternary": [
           {
            "marker": {
             "colorbar": {
              "outlinewidth": 0,
              "ticks": ""
             }
            },
            "type": "scatterternary"
           }
          ],
          "surface": [
           {
            "colorbar": {
             "outlinewidth": 0,
             "ticks": ""
            },
            "colorscale": [
             [
              0,
              "#0d0887"
             ],
             [
              0.1111111111111111,
              "#46039f"
             ],
             [
              0.2222222222222222,
              "#7201a8"
             ],
             [
              0.3333333333333333,
              "#9c179e"
             ],
             [
              0.4444444444444444,
              "#bd3786"
             ],
             [
              0.5555555555555556,
              "#d8576b"
             ],
             [
              0.6666666666666666,
              "#ed7953"
             ],
             [
              0.7777777777777778,
              "#fb9f3a"
             ],
             [
              0.8888888888888888,
              "#fdca26"
             ],
             [
              1,
              "#f0f921"
             ]
            ],
            "type": "surface"
           }
          ],
          "table": [
           {
            "cells": {
             "fill": {
              "color": "#EBF0F8"
             },
             "line": {
              "color": "white"
             }
            },
            "header": {
             "fill": {
              "color": "#C8D4E3"
             },
             "line": {
              "color": "white"
             }
            },
            "type": "table"
           }
          ]
         },
         "layout": {
          "annotationdefaults": {
           "arrowcolor": "#2a3f5f",
           "arrowhead": 0,
           "arrowwidth": 1
          },
          "autotypenumbers": "strict",
          "coloraxis": {
           "colorbar": {
            "outlinewidth": 0,
            "ticks": ""
           }
          },
          "colorscale": {
           "diverging": [
            [
             0,
             "#8e0152"
            ],
            [
             0.1,
             "#c51b7d"
            ],
            [
             0.2,
             "#de77ae"
            ],
            [
             0.3,
             "#f1b6da"
            ],
            [
             0.4,
             "#fde0ef"
            ],
            [
             0.5,
             "#f7f7f7"
            ],
            [
             0.6,
             "#e6f5d0"
            ],
            [
             0.7,
             "#b8e186"
            ],
            [
             0.8,
             "#7fbc41"
            ],
            [
             0.9,
             "#4d9221"
            ],
            [
             1,
             "#276419"
            ]
           ],
           "sequential": [
            [
             0,
             "#0d0887"
            ],
            [
             0.1111111111111111,
             "#46039f"
            ],
            [
             0.2222222222222222,
             "#7201a8"
            ],
            [
             0.3333333333333333,
             "#9c179e"
            ],
            [
             0.4444444444444444,
             "#bd3786"
            ],
            [
             0.5555555555555556,
             "#d8576b"
            ],
            [
             0.6666666666666666,
             "#ed7953"
            ],
            [
             0.7777777777777778,
             "#fb9f3a"
            ],
            [
             0.8888888888888888,
             "#fdca26"
            ],
            [
             1,
             "#f0f921"
            ]
           ],
           "sequentialminus": [
            [
             0,
             "#0d0887"
            ],
            [
             0.1111111111111111,
             "#46039f"
            ],
            [
             0.2222222222222222,
             "#7201a8"
            ],
            [
             0.3333333333333333,
             "#9c179e"
            ],
            [
             0.4444444444444444,
             "#bd3786"
            ],
            [
             0.5555555555555556,
             "#d8576b"
            ],
            [
             0.6666666666666666,
             "#ed7953"
            ],
            [
             0.7777777777777778,
             "#fb9f3a"
            ],
            [
             0.8888888888888888,
             "#fdca26"
            ],
            [
             1,
             "#f0f921"
            ]
           ]
          },
          "colorway": [
           "#636efa",
           "#EF553B",
           "#00cc96",
           "#ab63fa",
           "#FFA15A",
           "#19d3f3",
           "#FF6692",
           "#B6E880",
           "#FF97FF",
           "#FECB52"
          ],
          "font": {
           "color": "#2a3f5f"
          },
          "geo": {
           "bgcolor": "white",
           "lakecolor": "white",
           "landcolor": "#E5ECF6",
           "showlakes": true,
           "showland": true,
           "subunitcolor": "white"
          },
          "hoverlabel": {
           "align": "left"
          },
          "hovermode": "closest",
          "mapbox": {
           "style": "light"
          },
          "paper_bgcolor": "white",
          "plot_bgcolor": "#E5ECF6",
          "polar": {
           "angularaxis": {
            "gridcolor": "white",
            "linecolor": "white",
            "ticks": ""
           },
           "bgcolor": "#E5ECF6",
           "radialaxis": {
            "gridcolor": "white",
            "linecolor": "white",
            "ticks": ""
           }
          },
          "scene": {
           "xaxis": {
            "backgroundcolor": "#E5ECF6",
            "gridcolor": "white",
            "gridwidth": 2,
            "linecolor": "white",
            "showbackground": true,
            "ticks": "",
            "zerolinecolor": "white"
           },
           "yaxis": {
            "backgroundcolor": "#E5ECF6",
            "gridcolor": "white",
            "gridwidth": 2,
            "linecolor": "white",
            "showbackground": true,
            "ticks": "",
            "zerolinecolor": "white"
           },
           "zaxis": {
            "backgroundcolor": "#E5ECF6",
            "gridcolor": "white",
            "gridwidth": 2,
            "linecolor": "white",
            "showbackground": true,
            "ticks": "",
            "zerolinecolor": "white"
           }
          },
          "shapedefaults": {
           "line": {
            "color": "#2a3f5f"
           }
          },
          "ternary": {
           "aaxis": {
            "gridcolor": "white",
            "linecolor": "white",
            "ticks": ""
           },
           "baxis": {
            "gridcolor": "white",
            "linecolor": "white",
            "ticks": ""
           },
           "bgcolor": "#E5ECF6",
           "caxis": {
            "gridcolor": "white",
            "linecolor": "white",
            "ticks": ""
           }
          },
          "title": {
           "x": 0.05
          },
          "xaxis": {
           "automargin": true,
           "gridcolor": "white",
           "linecolor": "white",
           "ticks": "",
           "title": {
            "standoff": 15
           },
           "zerolinecolor": "white",
           "zerolinewidth": 2
          },
          "yaxis": {
           "automargin": true,
           "gridcolor": "white",
           "linecolor": "white",
           "ticks": "",
           "title": {
            "standoff": 15
           },
           "zerolinecolor": "white",
           "zerolinewidth": 2
          }
         }
        },
        "xaxis": {
         "anchor": "y",
         "domain": [
          0,
          1
         ],
         "title": {
          "text": "Mileage"
         }
        },
        "yaxis": {
         "anchor": "x",
         "domain": [
          0,
          1
         ],
         "title": {
          "text": "Price"
         }
        }
       }
      },
      "text/html": [
       "<div>                            <div id=\"d9dedc97-e27a-4984-83a7-6cdbef03d374\" class=\"plotly-graph-div\" style=\"height:525px; width:100%;\"></div>            <script type=\"text/javascript\">                require([\"plotly\"], function(Plotly) {                    window.PLOTLYENV=window.PLOTLYENV || {};                                    if (document.getElementById(\"d9dedc97-e27a-4984-83a7-6cdbef03d374\")) {                    Plotly.newPlot(                        \"d9dedc97-e27a-4984-83a7-6cdbef03d374\",                        [{\"customdata\":[[1,\"https://ikman.lk/en/ad/honda-civic-sedan-ex-tech-pack-2020-for-sale-colombo-1\"],[2,\"https://ikman.lk/en/ad/honda-civic-fd4-2007-for-sale-kalutara-1\"],[3,\"https://ikman.lk/en/ad/honda-civic-ex-package-2018-for-sale-colombo-16\"],[4,\"https://ikman.lk/en/ad/honda-civic-sr-v-tec-turbo-2017-for-sale-colombo\"],[5,\"https://ikman.lk/en/ad/honda-civic-ex-tech-pack-2018-for-sale-colombo-106\"],[6,\"https://ikman.lk/en/ad/honda-civic-ex-tech-2017-for-sale-colombo-10\"],[7,\"https://ikman.lk/en/ad/honda-civic-2019-for-sale-gampaha\"],[8,\"https://ikman.lk/en/ad/honda-civic-18l-9th-gen-2012-for-sale-colombo\"],[9,\"https://ikman.lk/en/ad/honda-civic-ex-package-2017-for-sale-colombo-18\"],[10,\"https://ikman.lk/en/ad/honda-civic-sr-2018-for-sale-colombo-294\"],[11,\"https://ikman.lk/en/ad/honda-civic-sr-package-2018-for-sale-colombo\"],[12,\"https://ikman.lk/en/ad/honda-civic-fd3-2009-for-sale-colombo-3\"],[13,\"https://ikman.lk/en/ad/honda-civic-fd3-hybrid-ukversion-2009-for-sale-colombo\"],[14,\"https://ikman.lk/en/ad/honda-civic-ex-technology-pack-2020-for-sale-colombo-8\"],[15,\"https://ikman.lk/en/ad/honda-civic-ex-orange-pack-2017-for-sale-gampaha-1\"],[16,\"https://ikman.lk/en/ad/honda-civic-ex-2018-for-sale-colombo-476\"],[17,\"https://ikman.lk/en/ad/honda-civic-fb1-2012-for-sale-kalutara-2\"],[18,\"https://ikman.lk/en/ad/honda-civic-ex-2018-for-sale-colombo-475\"],[19,\"https://ikman.lk/en/ad/honda-civic-ex-tech-pack-2018-for-sale-colombo-104\"],[20,\"https://ikman.lk/en/ad/honda-civic-ex-2017-for-sale-colombo-166\"],[21,\"https://ikman.lk/en/ad/honda-civic-fd1-2008-for-sale-gampaha-13\"],[22,\"https://ikman.lk/en/ad/honda-civic-sr-2018-for-sale-kalutara-2\"],[23,\"https://ikman.lk/en/ad/honda-civic-fd1-type-s-2007-for-sale-ratnapura\"],[24,\"https://ikman.lk/en/ad/honda-civic-rs-sedan-15-turbo-2017-for-sale-colombo\"],[25,\"https://ikman.lk/en/ad/honda-civic-tech-pack-2018-for-sale-hambantota\"]],\"hovertemplate\":\"Mileage=%{x}<br>Price=%{y}<br>Index=%{customdata[0]}<br>Link=%{customdata[1]}<br>Year=%{marker.color}<extra></extra>\",\"legendgroup\":\"\",\"marker\":{\"color\":[2020,2007,2018,2017,2018,2017,2019,2012,2017,2018,2018,2009,2009,2020,2017,2018,2012,2018,2018,2017,2008,2018,2007,2017,2018],\"coloraxis\":\"coloraxis\",\"symbol\":\"circle\",\"line\":{\"color\":\"DarkSlateGrey\",\"width\":1},\"size\":6},\"mode\":\"markers+text\",\"name\":\"\",\"orientation\":\"v\",\"showlegend\":false,\"x\":[30000,108000,38000,33407,53000,54100,53000,49620,49500,36000,69000,111000,72000,18000,52300,44500,112000,53000,52000,41000,129000,71000,137000,77000,50000],\"xaxis\":\"x\",\"y\":[13250000,5800000,9950000,9650000,10590000,11000000,12500000,6800000,9350000,8975000,8675000,4900000,6590000,13190000,10200000,9750000,6000000,9500000,10500000,10600000,5250000,9500000,5650000,12500000,11400000],\"yaxis\":\"y\",\"type\":\"scatter\",\"textfont\":{\"size\":1},\"textposition\":\"middle center\",\"texttemplate\":\"<a href=\\\"%{customdata[1]}\\\">%{customdata[1]}</a>\"}],                        {\"template\":{\"data\":{\"histogram2dcontour\":[{\"type\":\"histogram2dcontour\",\"colorbar\":{\"outlinewidth\":0,\"ticks\":\"\"},\"colorscale\":[[0.0,\"#0d0887\"],[0.1111111111111111,\"#46039f\"],[0.2222222222222222,\"#7201a8\"],[0.3333333333333333,\"#9c179e\"],[0.4444444444444444,\"#bd3786\"],[0.5555555555555556,\"#d8576b\"],[0.6666666666666666,\"#ed7953\"],[0.7777777777777778,\"#fb9f3a\"],[0.8888888888888888,\"#fdca26\"],[1.0,\"#f0f921\"]]}],\"choropleth\":[{\"type\":\"choropleth\",\"colorbar\":{\"outlinewidth\":0,\"ticks\":\"\"}}],\"histogram2d\":[{\"type\":\"histogram2d\",\"colorbar\":{\"outlinewidth\":0,\"ticks\":\"\"},\"colorscale\":[[0.0,\"#0d0887\"],[0.1111111111111111,\"#46039f\"],[0.2222222222222222,\"#7201a8\"],[0.3333333333333333,\"#9c179e\"],[0.4444444444444444,\"#bd3786\"],[0.5555555555555556,\"#d8576b\"],[0.6666666666666666,\"#ed7953\"],[0.7777777777777778,\"#fb9f3a\"],[0.8888888888888888,\"#fdca26\"],[1.0,\"#f0f921\"]]}],\"heatmap\":[{\"type\":\"heatmap\",\"colorbar\":{\"outlinewidth\":0,\"ticks\":\"\"},\"colorscale\":[[0.0,\"#0d0887\"],[0.1111111111111111,\"#46039f\"],[0.2222222222222222,\"#7201a8\"],[0.3333333333333333,\"#9c179e\"],[0.4444444444444444,\"#bd3786\"],[0.5555555555555556,\"#d8576b\"],[0.6666666666666666,\"#ed7953\"],[0.7777777777777778,\"#fb9f3a\"],[0.8888888888888888,\"#fdca26\"],[1.0,\"#f0f921\"]]}],\"heatmapgl\":[{\"type\":\"heatmapgl\",\"colorbar\":{\"outlinewidth\":0,\"ticks\":\"\"},\"colorscale\":[[0.0,\"#0d0887\"],[0.1111111111111111,\"#46039f\"],[0.2222222222222222,\"#7201a8\"],[0.3333333333333333,\"#9c179e\"],[0.4444444444444444,\"#bd3786\"],[0.5555555555555556,\"#d8576b\"],[0.6666666666666666,\"#ed7953\"],[0.7777777777777778,\"#fb9f3a\"],[0.8888888888888888,\"#fdca26\"],[1.0,\"#f0f921\"]]}],\"contourcarpet\":[{\"type\":\"contourcarpet\",\"colorbar\":{\"outlinewidth\":0,\"ticks\":\"\"}}],\"contour\":[{\"type\":\"contour\",\"colorbar\":{\"outlinewidth\":0,\"ticks\":\"\"},\"colorscale\":[[0.0,\"#0d0887\"],[0.1111111111111111,\"#46039f\"],[0.2222222222222222,\"#7201a8\"],[0.3333333333333333,\"#9c179e\"],[0.4444444444444444,\"#bd3786\"],[0.5555555555555556,\"#d8576b\"],[0.6666666666666666,\"#ed7953\"],[0.7777777777777778,\"#fb9f3a\"],[0.8888888888888888,\"#fdca26\"],[1.0,\"#f0f921\"]]}],\"surface\":[{\"type\":\"surface\",\"colorbar\":{\"outlinewidth\":0,\"ticks\":\"\"},\"colorscale\":[[0.0,\"#0d0887\"],[0.1111111111111111,\"#46039f\"],[0.2222222222222222,\"#7201a8\"],[0.3333333333333333,\"#9c179e\"],[0.4444444444444444,\"#bd3786\"],[0.5555555555555556,\"#d8576b\"],[0.6666666666666666,\"#ed7953\"],[0.7777777777777778,\"#fb9f3a\"],[0.8888888888888888,\"#fdca26\"],[1.0,\"#f0f921\"]]}],\"mesh3d\":[{\"type\":\"mesh3d\",\"colorbar\":{\"outlinewidth\":0,\"ticks\":\"\"}}],\"scatter\":[{\"fillpattern\":{\"fillmode\":\"overlay\",\"size\":10,\"solidity\":0.2},\"type\":\"scatter\"}],\"parcoords\":[{\"type\":\"parcoords\",\"line\":{\"colorbar\":{\"outlinewidth\":0,\"ticks\":\"\"}}}],\"scatterpolargl\":[{\"type\":\"scatterpolargl\",\"marker\":{\"colorbar\":{\"outlinewidth\":0,\"ticks\":\"\"}}}],\"bar\":[{\"error_x\":{\"color\":\"#2a3f5f\"},\"error_y\":{\"color\":\"#2a3f5f\"},\"marker\":{\"line\":{\"color\":\"#E5ECF6\",\"width\":0.5},\"pattern\":{\"fillmode\":\"overlay\",\"size\":10,\"solidity\":0.2}},\"type\":\"bar\"}],\"scattergeo\":[{\"type\":\"scattergeo\",\"marker\":{\"colorbar\":{\"outlinewidth\":0,\"ticks\":\"\"}}}],\"scatterpolar\":[{\"type\":\"scatterpolar\",\"marker\":{\"colorbar\":{\"outlinewidth\":0,\"ticks\":\"\"}}}],\"histogram\":[{\"marker\":{\"pattern\":{\"fillmode\":\"overlay\",\"size\":10,\"solidity\":0.2}},\"type\":\"histogram\"}],\"scattergl\":[{\"type\":\"scattergl\",\"marker\":{\"colorbar\":{\"outlinewidth\":0,\"ticks\":\"\"}}}],\"scatter3d\":[{\"type\":\"scatter3d\",\"line\":{\"colorbar\":{\"outlinewidth\":0,\"ticks\":\"\"}},\"marker\":{\"colorbar\":{\"outlinewidth\":0,\"ticks\":\"\"}}}],\"scattermapbox\":[{\"type\":\"scattermapbox\",\"marker\":{\"colorbar\":{\"outlinewidth\":0,\"ticks\":\"\"}}}],\"scatterternary\":[{\"type\":\"scatterternary\",\"marker\":{\"colorbar\":{\"outlinewidth\":0,\"ticks\":\"\"}}}],\"scattercarpet\":[{\"type\":\"scattercarpet\",\"marker\":{\"colorbar\":{\"outlinewidth\":0,\"ticks\":\"\"}}}],\"carpet\":[{\"aaxis\":{\"endlinecolor\":\"#2a3f5f\",\"gridcolor\":\"white\",\"linecolor\":\"white\",\"minorgridcolor\":\"white\",\"startlinecolor\":\"#2a3f5f\"},\"baxis\":{\"endlinecolor\":\"#2a3f5f\",\"gridcolor\":\"white\",\"linecolor\":\"white\",\"minorgridcolor\":\"white\",\"startlinecolor\":\"#2a3f5f\"},\"type\":\"carpet\"}],\"table\":[{\"cells\":{\"fill\":{\"color\":\"#EBF0F8\"},\"line\":{\"color\":\"white\"}},\"header\":{\"fill\":{\"color\":\"#C8D4E3\"},\"line\":{\"color\":\"white\"}},\"type\":\"table\"}],\"barpolar\":[{\"marker\":{\"line\":{\"color\":\"#E5ECF6\",\"width\":0.5},\"pattern\":{\"fillmode\":\"overlay\",\"size\":10,\"solidity\":0.2}},\"type\":\"barpolar\"}],\"pie\":[{\"automargin\":true,\"type\":\"pie\"}]},\"layout\":{\"autotypenumbers\":\"strict\",\"colorway\":[\"#636efa\",\"#EF553B\",\"#00cc96\",\"#ab63fa\",\"#FFA15A\",\"#19d3f3\",\"#FF6692\",\"#B6E880\",\"#FF97FF\",\"#FECB52\"],\"font\":{\"color\":\"#2a3f5f\"},\"hovermode\":\"closest\",\"hoverlabel\":{\"align\":\"left\"},\"paper_bgcolor\":\"white\",\"plot_bgcolor\":\"#E5ECF6\",\"polar\":{\"bgcolor\":\"#E5ECF6\",\"angularaxis\":{\"gridcolor\":\"white\",\"linecolor\":\"white\",\"ticks\":\"\"},\"radialaxis\":{\"gridcolor\":\"white\",\"linecolor\":\"white\",\"ticks\":\"\"}},\"ternary\":{\"bgcolor\":\"#E5ECF6\",\"aaxis\":{\"gridcolor\":\"white\",\"linecolor\":\"white\",\"ticks\":\"\"},\"baxis\":{\"gridcolor\":\"white\",\"linecolor\":\"white\",\"ticks\":\"\"},\"caxis\":{\"gridcolor\":\"white\",\"linecolor\":\"white\",\"ticks\":\"\"}},\"coloraxis\":{\"colorbar\":{\"outlinewidth\":0,\"ticks\":\"\"}},\"colorscale\":{\"sequential\":[[0.0,\"#0d0887\"],[0.1111111111111111,\"#46039f\"],[0.2222222222222222,\"#7201a8\"],[0.3333333333333333,\"#9c179e\"],[0.4444444444444444,\"#bd3786\"],[0.5555555555555556,\"#d8576b\"],[0.6666666666666666,\"#ed7953\"],[0.7777777777777778,\"#fb9f3a\"],[0.8888888888888888,\"#fdca26\"],[1.0,\"#f0f921\"]],\"sequentialminus\":[[0.0,\"#0d0887\"],[0.1111111111111111,\"#46039f\"],[0.2222222222222222,\"#7201a8\"],[0.3333333333333333,\"#9c179e\"],[0.4444444444444444,\"#bd3786\"],[0.5555555555555556,\"#d8576b\"],[0.6666666666666666,\"#ed7953\"],[0.7777777777777778,\"#fb9f3a\"],[0.8888888888888888,\"#fdca26\"],[1.0,\"#f0f921\"]],\"diverging\":[[0,\"#8e0152\"],[0.1,\"#c51b7d\"],[0.2,\"#de77ae\"],[0.3,\"#f1b6da\"],[0.4,\"#fde0ef\"],[0.5,\"#f7f7f7\"],[0.6,\"#e6f5d0\"],[0.7,\"#b8e186\"],[0.8,\"#7fbc41\"],[0.9,\"#4d9221\"],[1,\"#276419\"]]},\"xaxis\":{\"gridcolor\":\"white\",\"linecolor\":\"white\",\"ticks\":\"\",\"title\":{\"standoff\":15},\"zerolinecolor\":\"white\",\"automargin\":true,\"zerolinewidth\":2},\"yaxis\":{\"gridcolor\":\"white\",\"linecolor\":\"white\",\"ticks\":\"\",\"title\":{\"standoff\":15},\"zerolinecolor\":\"white\",\"automargin\":true,\"zerolinewidth\":2},\"scene\":{\"xaxis\":{\"backgroundcolor\":\"#E5ECF6\",\"gridcolor\":\"white\",\"linecolor\":\"white\",\"showbackground\":true,\"ticks\":\"\",\"zerolinecolor\":\"white\",\"gridwidth\":2},\"yaxis\":{\"backgroundcolor\":\"#E5ECF6\",\"gridcolor\":\"white\",\"linecolor\":\"white\",\"showbackground\":true,\"ticks\":\"\",\"zerolinecolor\":\"white\",\"gridwidth\":2},\"zaxis\":{\"backgroundcolor\":\"#E5ECF6\",\"gridcolor\":\"white\",\"linecolor\":\"white\",\"showbackground\":true,\"ticks\":\"\",\"zerolinecolor\":\"white\",\"gridwidth\":2}},\"shapedefaults\":{\"line\":{\"color\":\"#2a3f5f\"}},\"annotationdefaults\":{\"arrowcolor\":\"#2a3f5f\",\"arrowhead\":0,\"arrowwidth\":1},\"geo\":{\"bgcolor\":\"white\",\"landcolor\":\"#E5ECF6\",\"subunitcolor\":\"white\",\"showland\":true,\"showlakes\":true,\"lakecolor\":\"white\"},\"title\":{\"x\":0.05},\"mapbox\":{\"style\":\"light\"}}},\"xaxis\":{\"anchor\":\"y\",\"domain\":[0.0,1.0],\"title\":{\"text\":\"Mileage\"}},\"yaxis\":{\"anchor\":\"x\",\"domain\":[0.0,1.0],\"title\":{\"text\":\"Price\"}},\"coloraxis\":{\"colorbar\":{\"title\":{\"text\":\"Year\"}},\"colorscale\":[[0.0,\"#0d0887\"],[0.1111111111111111,\"#46039f\"],[0.2222222222222222,\"#7201a8\"],[0.3333333333333333,\"#9c179e\"],[0.4444444444444444,\"#bd3786\"],[0.5555555555555556,\"#d8576b\"],[0.6666666666666666,\"#ed7953\"],[0.7777777777777778,\"#fb9f3a\"],[0.8888888888888888,\"#fdca26\"],[1.0,\"#f0f921\"]]},\"legend\":{\"tracegroupgap\":0},\"margin\":{\"t\":60}},                        {\"responsive\": true}                    ).then(function(){\n",
       "                            \n",
       "var gd = document.getElementById('d9dedc97-e27a-4984-83a7-6cdbef03d374');\n",
       "var x = new MutationObserver(function (mutations, observer) {{\n",
       "        var display = window.getComputedStyle(gd).display;\n",
       "        if (!display || display === 'none') {{\n",
       "            console.log([gd, 'removed!']);\n",
       "            Plotly.purge(gd);\n",
       "            observer.disconnect();\n",
       "        }}\n",
       "}});\n",
       "\n",
       "// Listen for the removal of the full notebook cells\n",
       "var notebookContainer = gd.closest('#notebook-container');\n",
       "if (notebookContainer) {{\n",
       "    x.observe(notebookContainer, {childList: true});\n",
       "}}\n",
       "\n",
       "// Listen for the clearing of the current output cell\n",
       "var outputEl = gd.closest('.output');\n",
       "if (outputEl) {{\n",
       "    x.observe(outputEl, {childList: true});\n",
       "}}\n",
       "\n",
       "                        })                };                });            </script>        </div>"
      ]
     },
     "metadata": {},
     "output_type": "display_data"
    }
   ],
   "source": [
    "from bs4 import BeautifulSoup\n",
    "import requests\n",
    "import pandas as pd\n",
    "import urllib.parse\n",
    "import tkinter as tk\n",
    "import plotly.express as px\n",
    "\n",
    "main_url = 'https://ikman.lk'\n",
    "\n",
    "df = pd.DataFrame(columns=['Year', 'Price', 'District', 'Mileage','Link'])\n",
    "\n",
    "def convert_to_num(input_str):\n",
    "    input_str = input_str.replace(\"Rs \", \"\")\n",
    "    output_num = int(input_str.replace(\",\", \"\"))\n",
    "    return output_num\n",
    "\n",
    "root = tk.Tk()\n",
    "root.title(\"Enter Inputs\")\n",
    "\n",
    "\n",
    "def get_inputs():\n",
    "    global model, min_year, max_year, min_price, max_price, min_miles, max_miles, pages\n",
    "\n",
    "    model = model_entry.get() or None\n",
    "    min_year = min_year_entry.get() or None\n",
    "    max_year = max_year_entry.get() or None\n",
    "    min_price = min_price_entry.get() or None\n",
    "    max_price = max_price_entry.get() or None\n",
    "    min_miles = min_miles_entry.get() or None\n",
    "    max_miles = max_miles_entry.get() or None\n",
    "    pages = pages_entry.get() or 1\n",
    "\n",
    "    root.destroy()\n",
    "\n",
    "model_label = tk.Label(root, text=\"Car Model (optional):\")\n",
    "model_label.grid(row=0, column=0)\n",
    "\n",
    "model_entry = tk.Entry(root)\n",
    "model_entry.grid(row=0, column=1)\n",
    "\n",
    "min_year_label = tk.Label(root, text=\"Minimum YoM (optional):\")\n",
    "min_year_label.grid(row=1, column=0)\n",
    "\n",
    "min_year_entry = tk.Entry(root)\n",
    "min_year_entry.grid(row=1, column=1)\n",
    "\n",
    "max_year_label = tk.Label(root, text=\"Maximum YoM (optional):\")\n",
    "max_year_label.grid(row=2, column=0)\n",
    "\n",
    "max_year_entry = tk.Entry(root)\n",
    "max_year_entry.grid(row=2, column=1)\n",
    "\n",
    "min_price_label = tk.Label(root, text=\"Minimum Price (optional):\")\n",
    "min_price_label.grid(row=3, column=0)\n",
    "\n",
    "min_price_entry = tk.Entry(root)\n",
    "min_price_entry.grid(row=3, column=1)\n",
    "\n",
    "max_price_label = tk.Label(root, text=\"Maximum Price (optional):\")\n",
    "max_price_label.grid(row=4, column=0)\n",
    "\n",
    "max_price_entry = tk.Entry(root)\n",
    "max_price_entry.grid(row=4, column=1)\n",
    "\n",
    "min_miles_label = tk.Label(root, text=\"Minimum Mileage (optional):\")\n",
    "min_miles_label.grid(row=5, column=0)\n",
    "\n",
    "min_miles_entry = tk.Entry(root)\n",
    "min_miles_entry.grid(row=5, column=1)\n",
    "\n",
    "max_miles_label = tk.Label(root, text=\"Maximum Mileage (optional):\")\n",
    "max_miles_label.grid(row=6, column=0)\n",
    "\n",
    "max_miles_entry = tk.Entry(root)\n",
    "max_miles_entry.grid(row=6, column=1)\n",
    "\n",
    "pages_label = tk.Label(root, text=\"Pages to Extract (optional, default 1):\")\n",
    "pages_label.grid(row=7, column=0)\n",
    "\n",
    "pages_entry = tk.Entry(root)\n",
    "pages_entry.grid(row=7, column=1)\n",
    "\n",
    "submit_button = tk.Button(root, text=\"Submit\", command=get_inputs)\n",
    "submit_button.grid(row=8, column=0, columnspan=2)\n",
    "\n",
    "root.mainloop()\n",
    "\n",
    "if min_year:\n",
    "    min_year = int(min_year)\n",
    "if max_year:\n",
    "    max_year = int(max_year)\n",
    "if min_price:\n",
    "    min_price = int(min_price)\n",
    "if max_price:\n",
    "    max_price = int(max_price)\n",
    "if min_miles:\n",
    "    min_miles = int(min_miles)\n",
    "if max_miles:\n",
    "    max_miles = int(max_miles)\n",
    "pages = int(pages)\n",
    "\n",
    "for i in range(1, pages+1):\n",
    "    url = f'https://ikman.lk/en/ads/sri-lanka/cars?sort=date&buy_now=0&urgent=0&query={model}&page={i}'\n",
    "    if min_year:\n",
    "        url += f'&numeric.model_year.minimum={min_year}'\n",
    "    if max_year:\n",
    "        url += f'&numeric.model_year.maximum={max_year}'\n",
    "    if min_price:\n",
    "        url += f'&money.price.minimum={min_price}'\n",
    "    if max_price:\n",
    "        url += f'&money.price.maximum={max_price}'\n",
    "    if min_miles:\n",
    "        url += f'&numeric.mileage.minimum={min_miles}'\n",
    "    if max_miles:\n",
    "        url += f'&numeric.mileage.maximum={max_miles}'\n",
    "    \n",
    "    page = requests.get(url)\n",
    "        \n",
    "    soup = BeautifulSoup(page.text, 'lxml')\n",
    "    \n",
    "    lists = soup.find('ul', class_='list--3NxGO')\n",
    "    titles = lists.find_all('h2')\n",
    "    prices = lists.find_all('div', class_='price--3SnqI color--t0tGX')\n",
    "    districts = lists.find_all('div', class_='description--2-ez3')\n",
    "    links = lists.find_all('a', class_='card-link--3ssYv gtm-ad-item')\n",
    "    \n",
    "    years_list = [title.get_text()[-4:] for title in titles]\n",
    "    prices_list = [price.get_text() for price in prices]\n",
    "    prices_list = [convert_to_num(price) for price in prices_list]\n",
    "    districts_list = [district.get_text().split(',')[0] for district in districts]\n",
    "    \n",
    "    mileages_list = []\n",
    "    for mile in lists.find_all('div', class_='content--3JNQz'):\n",
    "        title = mile.find('h2')\n",
    "        title.decompose() if title else None\n",
    "        district = mile.find('div', class_=\"description--2-ez3\")\n",
    "        district.decompose() if district else None\n",
    "        price = mile.find('div', class_=\"price--3SnqI color--t0tGX\")\n",
    "        price.decompose() if price else None\n",
    "        mileages_list.append(mile.get_text().strip().split(' km')[0])\n",
    "    \n",
    "    mileages_list = [convert_to_num(miles) for miles in mileages_list]\n",
    "    \n",
    "    link_list = []\n",
    "    for i in range(0, len(links)):\n",
    "        link_list.append(main_url+links[i]['href'])\n",
    "    \n",
    "    df = df.append(pd.DataFrame({'Year': years_list, 'Price': prices_list, 'District': districts_list, 'Mileage':mileages_list, 'Link':link_list}), ignore_index=True)\n",
    "\n",
    "def convert_year(year_str):\n",
    "    try:\n",
    "        year_int = int(year_str)\n",
    "        if year_int >= 1900 and year_int <= 2100:\n",
    "            return year_int\n",
    "        else:\n",
    "            return None\n",
    "    except:\n",
    "        return None\n",
    "\n",
    "df['Year'] = df['Year'].apply(convert_year)\n",
    "df = df[df['Year'].notnull()]\n",
    "df = df.dropna()\n",
    "df = df[df['Year'].astype(int) != 0]\n",
    "\n",
    "\n",
    "df['Index'] = df.index + 1\n",
    "fig = px.scatter(df, x='Mileage', y='Price', color='Year', hover_data=['Index', 'Link'])\n",
    "\n",
    "fig.update_traces(textposition='middle center', textfont_size=1,\n",
    "                  mode='markers+text',\n",
    "                  marker=dict(size=6, line=dict(width=1, color='DarkSlateGrey')),\n",
    "                  texttemplate='<a href=\"%{customdata[1]}\">%{customdata[1]}</a>',\n",
    "                  customdata=list(zip(df['Index'], df['Link'])))\n",
    "\n",
    "fig.show()"
   ]
  },
  {
   "cell_type": "code",
   "execution_count": null,
   "metadata": {},
   "outputs": [],
   "source": []
  }
 ],
 "metadata": {
  "kernelspec": {
   "display_name": "Python 3",
   "language": "python",
   "name": "python3"
  },
  "language_info": {
   "codemirror_mode": {
    "name": "ipython",
    "version": 3
   },
   "file_extension": ".py",
   "mimetype": "text/x-python",
   "name": "python",
   "nbconvert_exporter": "python",
   "pygments_lexer": "ipython3",
   "version": "3.8.3"
  }
 },
 "nbformat": 4,
 "nbformat_minor": 4
}
