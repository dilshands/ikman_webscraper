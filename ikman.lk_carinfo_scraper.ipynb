{
 "cells": [
  {
   "cell_type": "code",
   "execution_count": 1,
   "metadata": {},
   "outputs": [
    {
     "name": "stdout",
     "output_type": "stream",
     "text": [
      "Car Model? corolla\n",
      "Minimum YoM? 2007\n",
      "Pages to Extract? 1\n",
      "    Year         Price      District  Mileage\n",
      "0   2008  Rs 4,750,000         Galle  103,000\n",
      "1   2017  Rs 8,900,000       Colombo   47,200\n",
      "2   2011  Rs 5,800,000       Colombo  135,000\n",
      "3   2008  Rs 4,750,000         Galle  103,000\n",
      "4   2008  Rs 4,975,000       Colombo  109,000\n",
      "5   2008  Rs 5,400,000        Jaffna  150,000\n",
      "6   2008  Rs 5,050,000       Colombo   62,100\n",
      "7   2008  Rs 4,450,000       Colombo  196,800\n",
      "8   2008  Rs 4,665,000        Matara  178,000\n",
      "9   2007  Rs 4,670,000       Gampaha  296,000\n",
      "10  2010  Rs 5,800,000       Colombo   82,000\n",
      "11  2008  Rs 5,500,000       Gampaha  132,000\n",
      "12  2008  Rs 5,100,000         Galle  114,000\n",
      "13  2008  Rs 5,400,000       Colombo  140,000\n",
      "14  2007  Rs 4,190,000       Colombo  205,000\n",
      "15  2008  Rs 5,250,000       Gampaha  176,000\n",
      "16  2008  Rs 4,975,000       Colombo  140,000\n",
      "17  2007  Rs 4,600,000         Galle  200,000\n",
      "18  2008  Rs 5,290,000  Anuradhapura   81,000\n",
      "19  2010  Rs 5,800,000       Colombo  100,800\n",
      "20  2008  Rs 5,600,000       Colombo   93,000\n",
      "21  2012  Rs 7,250,000       Colombo  153,000\n",
      "22  2007  Rs 5,100,000       Colombo  150,000\n",
      "23  2007  Rs 4,550,000       Colombo  163,000\n",
      "24  2009  Rs 5,700,000       Colombo  159,000\n",
      "25  2008  Rs 4,625,000       Kegalle  108,000\n",
      "26  2008  Rs 5,700,000  Anuradhapura  123,576\n"
     ]
    }
   ],
   "source": [
    "from bs4 import BeautifulSoup\n",
    "import requests\n",
    "import pandas as pd\n",
    "\n",
    "model = input(\"Car Model? \").replace(\" \", \"%20\")\n",
    "min_year = input(\"Minimum YoM? \")\n",
    "pages = int(input(\"Pages to Extract? \"))\n",
    "\n",
    "df = pd.DataFrame(columns=['Year', 'Price', 'District', 'Mileage'])\n",
    "\n",
    "for page in range(1, pages+1):\n",
    "    url = f'https://ikman.lk/en/ads/sri-lanka/cars?sort=date&order=desc&buy_now=0&urgent=0&query={model}&page={page}&numeric.model_year.minimum={min_year}'\n",
    "    \n",
    "    page = requests.get(url)\n",
    "        \n",
    "    soup = BeautifulSoup(page.text, 'lxml')\n",
    "    \n",
    "    lists = soup.find('ul', class_='list--3NxGO')\n",
    "    titles = lists.find_all('h2')\n",
    "    prices = lists.find_all('div', class_='price--3SnqI color--t0tGX')\n",
    "    districts = lists.find_all('div', class_='description--2-ez3')\n",
    "    \n",
    "    years_list = [title.get_text()[-4:] for title in titles]\n",
    "    prices_list = [price.get_text() for price in prices]\n",
    "    districts_list = [district.get_text().split(',')[0] for district in districts]\n",
    "    \n",
    "    mileages_list = []\n",
    "    for mile in lists.find_all('div', class_='content--3JNQz'):\n",
    "        title = mile.find('h2')\n",
    "        title.decompose() if title else None\n",
    "        district = mile.find('div', class_=\"description--2-ez3\")\n",
    "        district.decompose() if district else None\n",
    "        price = mile.find('div', class_=\"price--3SnqI color--t0tGX\")\n",
    "        price.decompose() if price else None\n",
    "        mileages_list.append(mile.get_text().strip().split(' km')[0])\n",
    "    \n",
    "    df = df.append(pd.DataFrame({'Year': years_list, 'Price': prices_list, 'District': districts_list, 'Mileage':mileages_list}), ignore_index=True)\n",
    "\n",
    "print(df)\n"
   ]
  },
  {
   "cell_type": "code",
   "execution_count": null,
   "metadata": {},
   "outputs": [],
   "source": []
  }
 ],
 "metadata": {
  "kernelspec": {
   "display_name": "Python 3",
   "language": "python",
   "name": "python3"
  },
  "language_info": {
   "codemirror_mode": {
    "name": "ipython",
    "version": 3
   },
   "file_extension": ".py",
   "mimetype": "text/x-python",
   "name": "python",
   "nbconvert_exporter": "python",
   "pygments_lexer": "ipython3",
   "version": "3.8.3"
  }
 },
 "nbformat": 4,
 "nbformat_minor": 4
}
